{
 "cells": [
  {
   "cell_type": "code",
   "execution_count": 8,
   "id": "5304b49a-37c7-4b83-82dd-5bf233722ff6",
   "metadata": {},
   "outputs": [],
   "source": [
    "import torch\n",
    "from torchvision import datasets, transforms\n",
    "from torch.utils.data import ConcatDataset\n",
    "from dotenv import load_dotenv\n",
    "import os\n",
    "\n",
    "\n",
    "#use this\n",
    "#https://docs.pytorch.org/tutorials/beginner/basics/data_tutorial.html\n",
    "def get_datasetA():\n",
    "    transform = transforms.Compose([\n",
    "        transforms.Resize((224, 224)),  # Resize all images to 224x224\n",
    "        transforms.ToTensor(),          # Convert to tensor\n",
    "        transforms.Normalize([0.5], [0.5])  # Normalize (for grayscale) or use 3 values for RGB\n",
    "    ])\n",
    "    load_dotenv()\n",
    "    if datasetName == \"A\":\n",
    "        # Load the dataset\n",
    "        dataset = datasets.ImageFolder(root=os.getenv(\"DATASET_A\"), transform=transform)\n",
    "    \n",
    "        #changing the class names so it's just XX-X instead of ColorColor-Color (XX-X). \n",
    "        #This is so it matches B and C's folder structure\n",
    "        new_class_names = []\n",
    "        for folder_name in dataset.classes:\n",
    "            if '(' in folder_name and ')' in folder_name:\n",
    "                abbrev = folder_name.split('(')[-1].split(')')[0].strip()\n",
    "            else:\n",
    "                abbrev = folder_name  # fallback to original name\n",
    "            new_class_names.append(abbrev)\n",
    "    \n",
    "        #updating the indexes so they match the new class names\n",
    "        idx_to_abbrev = {i: abbrev for i, abbrev in enumerate(new_class_names)}\n",
    "    \n",
    "        #changing our classes and class indexes to match the new ones\n",
    "        dataset.classes = new_class_names\n",
    "        dataset.class_to_idx = idx_to_abbrev\n",
    "    return dataset\n",
    "\n",
    "def get_concatDatasets(datasetName):\n",
    "      #B and C have a unique file structure... it's {DATE} SORTED / good / XX-X for every bird photographed that day... so we need to concatenate \n",
    "\n",
    "        root_dir = os.getenv(\"DATASET_B\") if datasetName == \"B\" else os.getenv(\"DATASET_C\")\n",
    "\n",
    "        #list all subfolders ending with 'SORTED/good'\n",
    "        img_dirs = []\n",
    "        for folder in os.listdir(root_dir):\n",
    "            sorted_path = os.path.join(root_dir, folder)\n",
    "            #skips all non-folders and folders w/o SORTED in the name\n",
    "            if not os.path.isdir(sorted_path) or 'SORTED' not in folder:\n",
    "                continue\n",
    "            good_path = os.path.join(sorted_path, 'good')\n",
    "            if os.path.isdir(good_path):\n",
    "                img_dirs.append(good_path)\n",
    "\n",
    "        datasets_list = [datasets.ImageFolder(root=img_dir, transform=transform) for img_dir in img_dirs]\n",
    "        #concating them all together\n",
    "        dataset = ConcatDataset(datasets_list)\n",
    "\n",
    "    return dataset\n",
    "        \n"
   ]
  },
  {
   "cell_type": "code",
   "execution_count": 22,
   "id": "081f8356-229a-4d5f-9de7-7a048c7d0ccb",
   "metadata": {},
   "outputs": [
    {
     "ename": "AttributeError",
     "evalue": "'tuple' object has no attribute 'classes'",
     "output_type": "error",
     "traceback": [
      "\u001b[1;31m---------------------------------------------------------------------------\u001b[0m",
      "\u001b[1;31mAttributeError\u001b[0m                            Traceback (most recent call last)",
      "Cell \u001b[1;32mIn[22], line 5\u001b[0m\n\u001b[0;32m      3\u001b[0m \u001b[38;5;28;01mfor\u001b[39;00m images, labels \u001b[38;5;129;01min\u001b[39;00m dataloader:\n\u001b[0;32m      4\u001b[0m     \u001b[38;5;28;01mfor\u001b[39;00m label \u001b[38;5;129;01min\u001b[39;00m labels:\n\u001b[1;32m----> 5\u001b[0m         \u001b[38;5;28mprint\u001b[39m(\u001b[38;5;124mf\u001b[39m\u001b[38;5;124m'\u001b[39m\u001b[38;5;132;01m{\u001b[39;00mlabel\u001b[38;5;132;01m}\u001b[39;00m\u001b[38;5;124m: \u001b[39m\u001b[38;5;132;01m{\u001b[39;00mdataset[label]\u001b[38;5;241m.\u001b[39mclasses\u001b[38;5;132;01m}\u001b[39;00m\u001b[38;5;124m'\u001b[39m)\n\u001b[0;32m      6\u001b[0m     \u001b[38;5;28;01mbreak\u001b[39;00m\n",
      "\u001b[1;31mAttributeError\u001b[0m: 'tuple' object has no attribute 'classes'"
     ]
    }
   ],
   "source": [
    "\n",
    "dataset = get_dataset(\"A\")\n",
    "dataloader = DataLoader(dataset, batch_size=8, shuffle=True)\n",
    "for images, labels in dataloader:\n",
    "    for label in labels:\n",
    "        print(f'{label}: {dataset[label].classes}')\n",
    "    break\n",
    "    "
   ]
  },
  {
   "cell_type": "code",
   "execution_count": null,
   "id": "db7c252b-81d0-48cf-99da-5949feaf34c4",
   "metadata": {},
   "outputs": [],
   "source": []
  }
 ],
 "metadata": {
  "kernelspec": {
   "display_name": "Python 3 (ipykernel)",
   "language": "python",
   "name": "python3"
  },
  "language_info": {
   "codemirror_mode": {
    "name": "ipython",
    "version": 3
   },
   "file_extension": ".py",
   "mimetype": "text/x-python",
   "name": "python",
   "nbconvert_exporter": "python",
   "pygments_lexer": "ipython3",
   "version": "3.11.7"
  }
 },
 "nbformat": 4,
 "nbformat_minor": 5
}
