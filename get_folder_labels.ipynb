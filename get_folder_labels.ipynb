{
 "cells": [
  {
   "cell_type": "code",
   "execution_count": 5,
   "id": "01de17ce-a254-4373-a35b-499f29976a8b",
   "metadata": {},
   "outputs": [
    {
     "name": "stdout",
     "output_type": "stream",
     "text": [
      "{'Dataset A': ['LM-B', 'LM-G', 'MR-R', 'O-RS', 'WS-P', 'Y-GM', 'YM-Y'], 'Dataset B': ['LM-G', 'Y-GL', '-Y', 'L-MB', 'L-YM', 'LM-G', 'Y-GL', '-Y', 'BR-L', 'L-XX', 'LM-G', 'Y-GL', '-Y', 'B-', 'L-XX', 'LM-G', 'MO-R', 'Y-GL', '-B', '-Y', 'K-WP', 'WX-P', 'Y-GL', 'YM-Y', '-Y', 'B-', 'L-MB', 'L-XX', 'LM-G', 'WX-P', 'Y-GL', '-Y', 'L-MB', 'L-XX', 'LM-G', 'MO-R', 'WX-P', '-Y', 'B-', 'L-MB', 'LM-G', 'MO-R', 'MR-L', 'WX-P', 'Y-GL', '-Y', 'B-', 'K-WP', 'LM-G', 'MO-R', 'PR-K', 'WX-P', 'Y-GL', '-Y', 'B-', 'L-MB', 'L-XX', 'MO-R', 'O-LW', 'PR-K', 'Y-GL', '-Y', 'B-', 'K-WP', 'L-MB', 'LM-G', 'MO-R', 'PR-K', 'WX-P', 'Y-GL', 'YM-Y', '-Y', 'B-', 'K-WP', 'L-MB', 'LM-G', 'O-LW', 'W-BB', 'WX-P', '-Y', 'L-MB', 'O-LW', 'P-XX', 'W-BB'], 'Dataset C': ['-Y', 'O-LW', 'W-GL', '-Y', 'B-', 'K-PW', 'KR-L', 'L-MB', 'LM-G', 'RM-X', 'W-GL', 'WX-P', 'X-XX', 'Y-GL', '-Y', 'B-', 'KR-L', 'W-GL', 'WX-P', 'X-XX', 'Y-GL', '-Y', 'B-', 'KR-L', 'O-LW', 'OL-Y', 'RM-X', 'W-GL', 'WX-P', 'XX-X', '-Y', 'B-', 'KR-L', 'L-MB', 'XX-O', '-B', '-Y', 'B-', 'KR-L', 'LM-G', 'WX-P', 'Y-GL', '-B', '-Y', 'B-', 'L-MB', '-B', 'L-MB', 'RM-X', 'WX-P', 'X-XX', 'YM-Y', '-Y', 'B-', 'KR-L', 'LM-G', 'MO-R', 'WX-P', 'YM-Y', 'B-', 'O-LW', 'W-GL', 'WX-P', 'X-XX', 'YM-Y', '-Y', 'B-', 'W-GL', 'X-XX', 'YM-Y']}\n",
      "A Intersect B: {'LM-G', 'YM-Y'}\n",
      "B Intersect C: {'YM-Y', '-B', 'LM-G', 'B-', 'MO-R', 'O-LW', 'L-MB', 'WX-P', '-Y', 'Y-GL'}\n",
      "C Intersect A: {'LM-G', 'YM-Y'}\n"
     ]
    }
   ],
   "source": [
    "import os\n",
    "import re\n",
    "from collections import Counter\n",
    "\n",
    "def clean_folders(folders):\n",
    "    clean_names = []\n",
    "    for folder in folders:\n",
    "        folder = folder.split()[0]\n",
    "        pattern = r'^[A-WYZa-wyz]{1,2}-[A-WYZa-wyz]{1,2}$'\n",
    "        if re.fullmatch(pattern, folder.split()[0]):\n",
    "            clean_names.append(folder)\n",
    "    return clean_names;\n",
    "\n",
    "def find_unions(A, B):\n",
    "    name1 = next(iter(A.keys()))\n",
    "    name2 = next(iter(B.keys()))\n",
    "    arr1 = next(iter(A.values()))\n",
    "    arr2 = next(iter(B.values()))\n",
    "    common = set([x for x in arr1 if x in arr2])\n",
    "    print(f\"{name1[0]} Intersect {name2[0]}: {common}\")\n",
    "\n",
    "def list_folders(directory, second):\n",
    "    try:\n",
    "        items = os.listdir(directory)\n",
    "        folders = [item for item in items if os.path.isdir(os.path.join(directory, item))]\n",
    "        pattern = r'^[A-Za-z]{0,2}-[A-Za-z]{0,2}$'\n",
    "        if not second:\n",
    "            return clean_folders(folders)\n",
    "        else:\n",
    "            all_children = []\n",
    "            returned_folders = []\n",
    "            for folder in folders:\n",
    "                new_directory = directory + folder + \"\\\\good\\\\\";\n",
    "                all_children.append([ f.name for f in os.scandir(new_directory) if f.is_dir() ])\n",
    "            for folder in all_children:\n",
    "                for child in folder:\n",
    "                    returned_folders.append(child)\n",
    "            return clean_folders(returned_folders)\n",
    "                \n",
    "    except FileNotFoundError:\n",
    "        return f\"Directory '{directory}' not found.\"\n",
    "    except PermissionError:\n",
    "        return f\"Permission denied to access '{directory}'.\"\n",
    "\n",
    "\n",
    "datasetA = \"K:\\\\Datasets\\\\1st summer (Dataset A)\\\\Main kaka-image-datasets\\\\Dataset A\"\n",
    "datasetB = \"K:\\\\Datasets\\\\2nd summer (Dataset B and C)\\\\kaka image datasets 2nd summer\\\\kaka-image-dataset-3.0\\\\all-with-old-camera-cleaned\\\\\"\n",
    "datasetC = \"K:\\\\Datasets\\\\2nd summer (Dataset B and C)\\\\kaka image datasets 2nd summer\\\\kaka-image-dataset-3.0\\\\allWithNewCamera-cleaned\\\\\"\n",
    "directories = {\"Dataset A\": datasetA, \"Dataset B\": datasetB, \"Dataset C\": datasetC}\n",
    "dict_folders = {}\n",
    "for key,directory in directories.items():\n",
    "    if \"B\" in key or \"C\" in key:\n",
    "        folders = list_folders(directory, second=True)\n",
    "    else:\n",
    "        folders = list_folders(directory, second=False)\n",
    "    dict_folders[key] = folders;\n",
    "\n",
    "print(dict_folders)\n",
    "A = dict_folders[\"Dataset A\"]\n",
    "B = dict_folders[\"Dataset B\"]\n",
    "C = dict_folders[\"Dataset C\"]\n",
    "\n",
    "find_unions({\"A\": A}, {\"B\": B})\n",
    "find_unions({\"B\": B},{\"C\": C})\n",
    "find_unions({\"C\": C}, {\"A\": A})\n",
    "\n",
    "\n",
    "\n"
   ]
  },
  {
   "cell_type": "code",
   "execution_count": null,
   "id": "bcbe6ff8-0ff2-4104-8614-1bd97816f988",
   "metadata": {},
   "outputs": [],
   "source": [
    "#A Intersect B: {'LM-G', 'YM-Y'}\n",
    "#B Intersect C: {'YM-Y', 'WX-P', 'LM-G', 'L-MB', '-Y', 'B-', 'MO-R', '-B', 'Y-GL', 'O-LW'}\n",
    "#C Intersect A: {'LM-G', 'YM-Y'}"
   ]
  }
 ],
 "metadata": {
  "kernelspec": {
   "display_name": "Python 3 (ipykernel)",
   "language": "python",
   "name": "python3"
  },
  "language_info": {
   "codemirror_mode": {
    "name": "ipython",
    "version": 3
   },
   "file_extension": ".py",
   "mimetype": "text/x-python",
   "name": "python",
   "nbconvert_exporter": "python",
   "pygments_lexer": "ipython3",
   "version": "3.11.7"
  }
 },
 "nbformat": 4,
 "nbformat_minor": 5
}
