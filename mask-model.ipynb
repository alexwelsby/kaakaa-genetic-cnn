{
 "cells": [
  {
   "cell_type": "code",
   "execution_count": 1,
   "id": "63c83d33-774f-4e63-b562-933250a4df68",
   "metadata": {},
   "outputs": [],
   "source": [
    "import numpy as np\n",
    "import cv2 as cv"
   ]
  },
  {
   "cell_type": "code",
   "execution_count": 2,
   "id": "9c67b4f5-0205-4811-8ed2-ea6a0f0b4632",
   "metadata": {},
   "outputs": [],
   "source": [
    "# Initialize the parameters\n",
    "confThreshold = 0.5  #Confidence threshold; all the boxes below this are ignored for further processing\n",
    "maskThreshold = 0.3  # Mask threshold; thresholds the grey mask image, lower value is bigger mask"
   ]
  },
  {
   "cell_type": "code",
   "execution_count": 3,
   "id": "acf1664a-6817-4934-9b58-5b56ed1483a6",
   "metadata": {},
   "outputs": [],
   "source": [
    "# Load names of classes\n",
    "\"\"\"\n",
    "The file mscoco_labels.names contains all the objects for which the model was trained. \n",
    "We read class names. Then we read and load the colors.txt file containing all the colors used to mask objects of various classes.\n",
    "\n",
    "Next, we load the network using these two files —\n",
    "\n",
    "    frozen_inference_graph.pb : The pre-trained weights.\n",
    "    mask_rcnn_inception_v2_coco_2018_01_28.pbtxt : The text graph file that has been tuned by the OpenCV’s DNN support group, so that the network \n",
    "    can be loaded using OpenCV.\n",
    "\n",
    "We set the DNN backend to OpenCV here and the target to CPU. \n",
    "You could try setting the preferable target to cv.dnn.DNN_TARGET_OPENCL to run it on a GPU. \n",
    "But keep in mind that the DNN module in the current OpenCV version is tested only with Intel’s GPUs.\"\"\"\n",
    "\n",
    "root = \"mask_rcnn/\"\n",
    "classesFile = \"mscoco_labels.names\";\n",
    "classes = None\n",
    "with open(root+classesFile, 'rt') as f:\n",
    "   classes = f.read().rstrip('\\n').split('\\n')\n",
    " \n",
    "# Load the colors\n",
    "colorsFile = \"colors.txt\";\n",
    "with open(root+colorsFile, 'rt') as f:\n",
    "    colorsStr = f.read().rstrip('\\n').split('\\n')\n",
    "colors = []\n",
    "for i in range(len(colorsStr)):\n",
    "    rgb = colorsStr[i].split(' ')\n",
    "    color = np.array([float(rgb[0]), float(rgb[1]), float(rgb[2])])\n",
    "    colors.append(color)\n",
    " \n",
    "# Give the textGraph and weight files for the model\n",
    "textGraph = root + \"mask_rcnn.pbtxt\";\n",
    "modelWeights = root + \"frozen_inference_graph.pb\";\n",
    " \n",
    "# Load the network\n",
    "net = cv.dnn.readNetFromTensorflow(modelWeights, textGraph);\n",
    "net.setPreferableBackend(cv.dnn.DNN_BACKEND_OPENCV)\n",
    "net.setPreferableTarget(cv.dnn.DNN_TARGET_CPU)"
   ]
  },
  {
   "cell_type": "code",
   "execution_count": 4,
   "id": "770b2146-b7da-4d86-9981-bb55e27ac664",
   "metadata": {},
   "outputs": [
    {
     "name": "stderr",
     "output_type": "stream",
     "text": [
      "usage: ipykernel_launcher.py [-h] [--image IMAGE] [--video VIDEO]\n",
      "ipykernel_launcher.py: error: unrecognized arguments: -f C:\\Users\\alexw\\AppData\\Roaming\\jupyter\\runtime\\kernel-fcaf36c4-9eb2-4a85-a968-12c5f22c7097.json\n"
     ]
    },
    {
     "ename": "SystemExit",
     "evalue": "2",
     "output_type": "error",
     "traceback": [
      "An exception has occurred, use %tb to see the full traceback.\n",
      "\u001b[1;31mSystemExit\u001b[0m\u001b[1;31m:\u001b[0m 2\n"
     ]
    },
    {
     "name": "stderr",
     "output_type": "stream",
     "text": [
      "C:\\Users\\alexw\\anaconda3\\Lib\\site-packages\\IPython\\core\\interactiveshell.py:3561: UserWarning: To exit: use 'exit', 'quit', or Ctrl-D.\n",
      "  warn(\"To exit: use 'exit', 'quit', or Ctrl-D.\", stacklevel=1)\n"
     ]
    }
   ],
   "source": [
    "\"\"\"Step 4 : Read the input\n",
    "\n",
    "In this step we read the image, video stream or the webcam. \n",
    "In addition, we also open the video writer to save the frames with detected output bounding boxes.\"\"\"\n",
    "import argparse\n",
    "\n",
    "outputFile = \"mask_rcnn_out_py.jpg\"\n",
    "\n",
    "image_path = \"path/to/your/image.jpg\"\n",
    "\n",
    "ap = argparse.ArgumentParser()\n",
    "ap.add_argument('--image', help='Path to input image')\n",
    "ap.add_argument('--video', help='Path to input image')\n",
    "args = ap.parse_args()\n",
    "\n",
    "if (args.image):\n",
    "    # Open the image file\n",
    "    if not os.path.isfile(args.image):\n",
    "        print(\"Input image file \", args.image, \" doesn't exist\")\n",
    "        sys.exit(1)\n",
    "    cap = cv.VideoCapture(args.image)\n",
    "    outputFile = args.image[:-4]+'_mask_rcnn_out_py.jpg'\n",
    "elif (args.video):\n",
    "    # Open the video file\n",
    "    if not os.path.isfile(args.video):\n",
    "        print(\"Input video file \", args.video, \" doesn't exist\")\n",
    "        sys.exit(1)\n",
    "    cap = cv.VideoCapture(args.video)\n",
    "    outputFile = args.video[:-4]+'_mask_rcnn_out_py.avi'\n",
    "else:\n",
    "    # Webcam input\n",
    "    cap = cv.VideoCapture(0)\n",
    " \n",
    "# Get the video writer initialized to save the output video\n",
    "if (not args.image):\n",
    "    vid_writer = cv.VideoWriter(outputFile, cv.VideoWriter_fourcc('M','J','P','G'), 28, (round(cap.get(cv.CAP_PROP_FRAME_WIDTH)),round(cap.get(cv.CAP_PROP_FRAME_HEIGHT))))"
   ]
  },
  {
   "cell_type": "code",
   "execution_count": 1,
   "id": "24ac6fd5-e84b-4c65-9456-5ebe32acfa2b",
   "metadata": {},
   "outputs": [],
   "source": [
    "import random\n",
    "\n",
    "num_classes = 90  # Number of MS COCO classes\n",
    "with open(\"colors.txt\", \"w\") as f:\n",
    "    for _ in range(num_classes):\n",
    "        color = [random.randint(0, 255) for _ in range(3)]\n",
    "        f.write(\" \".join(map(str, color)) + \"\\n\")"
   ]
  },
  {
   "cell_type": "code",
   "execution_count": null,
   "id": "8ecb4b7a-c7be-4abd-a69a-7657cf02b9cb",
   "metadata": {},
   "outputs": [],
   "source": []
  }
 ],
 "metadata": {
  "kernelspec": {
   "display_name": "Python 3 (ipykernel)",
   "language": "python",
   "name": "python3"
  },
  "language_info": {
   "codemirror_mode": {
    "name": "ipython",
    "version": 3
   },
   "file_extension": ".py",
   "mimetype": "text/x-python",
   "name": "python",
   "nbconvert_exporter": "python",
   "pygments_lexer": "ipython3",
   "version": "3.11.7"
  }
 },
 "nbformat": 4,
 "nbformat_minor": 5
}
